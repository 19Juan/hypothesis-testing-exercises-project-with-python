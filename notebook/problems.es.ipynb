{
 "cells": [
  {
   "cell_type": "markdown",
   "id": "d9d036c6",
   "metadata": {},
   "source": [
    "# Problemas de prueba de hipótesis"
   ]
  },
  {
   "cell_type": "markdown",
   "id": "d157c4db",
   "metadata": {},
   "source": [
    "## Ejercicio 1\n",
    "\n",
    "Usted es un nutricionista que investiga dos tipos diferentes de dietas para ver si existe una diferencia significativa en la pérdida de peso después de un mes. Eliges dos grupos aleatorios de personas; un grupo sigue la primera dieta y el otro sigue la segunda. Al final del mes, se registra la pérdida de peso (en kg) de cada persona:\n",
    "\n",
    "| Diet 1 | Diet 2 |\n",
    "|:-------|:-------|\n",
    "| 2.0 | 3.0 |\n",
    "| 2.5 | 3.2 |\n",
    "| 3.0 | 3.1 |\n",
    "| 2.8 | 2.9 |\n",
    "| 2.3 | 2.8 |\n",
    "| 2.7 | 3.0 |\n",
    "| 2.5 | 3.2 |\n",
    "\n",
    "Con estos datos se busca responder a la siguiente pregunta: ¿Existe una diferencia significativa en la pérdida de peso promedio entre las personas que siguieron la primera dieta y las que siguieron la segunda dieta?\n",
    "\n",
    "Para sacar conclusiones, siga los siguientes puntos:\n",
    "\n",
    "-Enunciar la hipótesis: hipótesis nula y alternativa.\n",
    "-Realizar la prueba para comprobar la hipótesis. Puede utilizar la prueba t de Student.\n",
    "-Analizar las conclusiones."
   ]
  },
  {
   "cell_type": "code",
   "execution_count": 15,
   "id": "8e0f3cf0",
   "metadata": {},
   "outputs": [
    {
     "name": "stdout",
     "output_type": "stream",
     "text": [
      "2.542857142857143\n",
      "3.0285714285714285\n",
      "valor t:  -3.5383407969933938\n",
      "valor p:  0.004083270191713912\n",
      "Rechazo la hipótesis nula ya que el valor p es menor a la significancia,\n",
      "por lo tanto hay diferencia significativa en la pérdida de peso promedio entre la dieta 1 y 2\n"
     ]
    }
   ],
   "source": [
    "# TODO\n",
    "\n",
    "#H0: no hay diferencia significativa en la pérdida de peso promedio la dieta 1 y 2\n",
    "#H1: hay diferencia significativa en la pérdida de peso promedio la dieta 1 y 2\n",
    "\n",
    "import numpy as np\n",
    "\n",
    "dieta1 = np.array([2.0,2.5,3.0,2.8,2.3,2.7,2.5])\n",
    "dieta2 = np.array([3.0,3.2,3.1,2.9,2.8,3.0,3.2])\n",
    "\n",
    "print (np.mean(dieta1))\n",
    "print (np.mean(dieta2))\n",
    "\n",
    "import scipy.stats as stats\n",
    "\n",
    "t_value, p_value = stats.ttest_ind(dieta1, dieta2)\n",
    "print(\"valor t: \", t_value)\n",
    "print(\"valor p: \", p_value)\n",
    "\n",
    "#Significancia = 0.05\n",
    "\n",
    "print(\"Rechazo la hipótesis nula ya que el valor p es menor a la significancia,\") \n",
    "print(\"por lo tanto hay diferencia significativa en la pérdida de peso promedio entre la dieta 1 y 2\")"
   ]
  },
  {
   "cell_type": "markdown",
   "id": "f432e18e",
   "metadata": {},
   "source": [
    "## ANOVA\n",
    "\n",
    "**ANOVA** (*Analysis of Variance - Análisis de variación*) Es una técnica estadística utilizada para comparar las medidas de dos o más grupos. La idea detrás de ANOVA es descomponer la variabilidad total de los datos en dos componentes: variabilidad entre grupos y variabilidad dentro de los grupos:\n",
    "\n",
    "- **Variabilidad entre grupos**: Esta variabilidad se refiere a las diferencias entre las medias del grupo. Si esta variabilidad es considerablemente mayor que la variabilidad dentro del grupo, podría ser una indicación de que al menos una de las medias del grupo es diferente.\n",
    "- **Variabilidad dentro del grupo**: Esta variabilidad se refiere a la dispersión de los datos dentro de cada grupo. Si todos los grupos tienen una variabilidad similar, entonces cualquier diferencia notable en las medias de los grupos podría considerarse significativa.\n",
    "\n",
    "Las hipótesis en ANOVA suelen incluir:\n",
    "\n",
    "- **Hipótesis nula** ($H₀$): Las medias de todos los grupos son iguales.\n",
    "- **Hipótesis alternativa** ($H₁$): Al menos una de las medias del grupo es diferente.\n",
    "\n",
    "Si el resultado de la prueba ANOVA es significativo (por ejemplo, un valor p inferior a un umbral como 0,05), esto sugiere que al menos la media de un grupo es diferente."
   ]
  },
  {
   "cell_type": "markdown",
   "id": "fc5f3721",
   "metadata": {},
   "source": [
    "## Ejercicio 2\n",
    "\n",
    "Un agricultor decide probar tres tipos diferentes de fertilizantes para determinar si alguno es superior en términos de producción de maíz. El agricultor planta maíz en 15 parcelas idénticas y utiliza los tres fertilizantes (5 parcelas para cada tipo). Al final de la temporada mide el rendimiento de maíz (en kg) de cada parcela, con el siguiente resultado:\n",
    "\n",
    "| Fertilizante 1 | Fertilizante 2 | Fertilizante 3 |\n",
    "|:-------------|:-------------|:-------------|\n",
    "| 20 | 22 | 24 |\n",
    "| 21 | 21 | 23 |\n",
    "| 20 | 23 | 22 |\n",
    "| 19 | 22 | 23 |\n",
    "| 20 | 21 | 24 |\n",
    "\n",
    "Con estos datos busca responder la siguiente pregunta: ¿Existe una diferencia significativa en el rendimiento promedio del maíz entre los tres tipos de fertilizantes?\n",
    "\n",
    "Para ayudarte, sigue los siguientes puntos:\n",
    "\n",
    "-Enunciar la hipótesis: hipótesis nula y alternativa.\n",
    "-Realizar la prueba ANOVA.\n",
    "-Analizar las conclusiones.\n",
    "-Si un fertilizante es mejor que otro, ¿cómo podemos saberlo?"
   ]
  },
  {
   "cell_type": "code",
   "execution_count": 16,
   "id": "eecad0ca",
   "metadata": {},
   "outputs": [
    {
     "name": "stdout",
     "output_type": "stream",
     "text": [
      "t_value:  20.315789473684188\n",
      "p_value:  0.00014047824793190472\n",
      "Rechazo la hipótesis nula ya que el valor p es menor a la significancia,\n",
      "por lo tanto hay diferencia significativa en el rendimiento de los fertilizantes\n"
     ]
    }
   ],
   "source": [
    "# TODO\n",
    "#H0: no hay diferencia significativa en el rendimiento de los fertilizantes\n",
    "#H1: hay diferencia significativa en el rendimiento de los fertilizantes\n",
    "\n",
    "import numpy as np\n",
    "import scipy.stats as stats\n",
    "\n",
    "Fertilizante1 = np.array([20,21,20,19,20])\n",
    "Fertilizante2 = np.array([22,21,23,22,21])\n",
    "Fertilizante3 = np.array([24,23,22,23,24])\n",
    "\n",
    "t_value, p_value = stats.f_oneway(Fertilizante1, Fertilizante2, Fertilizante3)\n",
    "\n",
    "print(\"t_value: \", t_value)\n",
    "print(\"p_value: \", p_value)\n",
    "\n",
    "#Significancia = 0.05\n",
    "\n",
    "print(\"Rechazo la hipótesis nula ya que el valor p es menor a la significancia,\")\n",
    "print(\"por lo tanto hay diferencia significativa en el rendimiento de los fertilizantes\")\n",
    "\n",
    "\n"
   ]
  }
 ],
 "metadata": {
  "kernelspec": {
   "display_name": "Python 3",
   "language": "python",
   "name": "python3"
  },
  "language_info": {
   "codemirror_mode": {
    "name": "ipython",
    "version": 3
   },
   "file_extension": ".py",
   "mimetype": "text/x-python",
   "name": "python",
   "nbconvert_exporter": "python",
   "pygments_lexer": "ipython3",
   "version": "3.11.4"
  }
 },
 "nbformat": 4,
 "nbformat_minor": 5
}
